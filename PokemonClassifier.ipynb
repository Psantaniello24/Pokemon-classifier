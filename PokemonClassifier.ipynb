from google.colab import files
from transformers import ViTForImageClassification, ViTFeatureExtractor
from PIL import Image
import torch

#Select the image 
image = files.upload()

# Loading in Model
device = "cuda" if torch.cuda.is_available() else "cpu"
model = ViTForImageClassification.from_pretrained( "imjeffhi/pokemon_classifier").to(device)
feature_extractor = ViTFeatureExtractor.from_pretrained('imjeffhi/pokemon_classifier')

# Calling the model on a test image
img = Image.open('250.png').convert("RGB")
#img = image
extracted = feature_extractor(images=img, return_tensors='pt').to(device)
predicted_id = model(**extracted).logits.argmax(-1).item()
predicted_pokemon = model.config.id2label[predicted_id]
